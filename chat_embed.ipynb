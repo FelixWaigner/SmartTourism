{
 "cells": [
  {
   "cell_type": "code",
   "execution_count": 1,
   "metadata": {},
   "outputs": [],
   "source": [
    "import os\n",
    "from embedchain import App\n",
    "from myapikey import apikey\n",
    "import configparser\n",
    "import pprint\n",
    "import Flask"
   ]
  },
  {
   "cell_type": "code",
   "execution_count": 15,
   "metadata": {},
   "outputs": [
    {
     "name": "stdout",
     "output_type": "stream",
     "text": [
      "Doc content has not changed. Skipping creating chunks and embeddings\n"
     ]
    },
    {
     "data": {
      "text/plain": [
       "'987a183aacb5fc662fde6c2140aa1214'"
      ]
     },
     "execution_count": 15,
     "metadata": {},
     "output_type": "execute_result"
    }
   ],
   "source": [
    "os.environ[\"OPENAI_API_KEY\"] = apikey()\n",
    "\n",
    "tourism_bot = App()\n",
    "\n",
    "# Tumpak Sewu Waterfalls\n",
    "# TODO: List all of the tourism spots\n",
    "\n",
    "# tourism_bot.add(\"https://en.wikipedia.org/wiki/Tumpak_Sewu_Waterfalls\")\n",
    "# tourism_bot.add(\"http://javaisbeautiful.com/2016/08/08/tumpak-sewu-waterfall-lumajang-malang-east-java-indonesia/\")\n",
    "\n",
    "# Mount Bromo\n",
    "tourism_bot.add(\"https://en.wikipedia.org/wiki/Mount_Bromo\")"
   ]
  },
  {
   "cell_type": "code",
   "execution_count": 16,
   "metadata": {},
   "outputs": [
    {
     "name": "stdout",
     "output_type": "stream",
     "text": [
      "\n",
      "I'm sorry, but I don't have the information on famous landmarks in Osaka.\n",
      "\n"
     ]
    }
   ],
   "source": [
    "while True:\n",
    "    question = input(\"Enter question regarding the tourism spot:\")\n",
    "    if question == 'quit':\n",
    "        break\n",
    "    \n",
    "    response = tourism_bot.query(question)\n",
    "    print(f\"\\n{response}\\n\")"
   ]
  },
  {
   "cell_type": "code",
   "execution_count": 13,
   "metadata": {},
   "outputs": [
    {
     "name": "stdout",
     "output_type": "stream",
     "text": [
      "'Mount Bromo has an elevation of 2,329 meters (7,641 feet).'\n"
     ]
    }
   ],
   "source": [
    "pp = pprint.PrettyPrinter(indent=4)\n",
    "pp.pprint(response)"
   ]
  },
  {
   "cell_type": "code",
   "execution_count": null,
   "metadata": {},
   "outputs": [],
   "source": []
  }
 ],
 "metadata": {
  "kernelspec": {
   "display_name": ".venv",
   "language": "python",
   "name": "python3"
  },
  "language_info": {
   "codemirror_mode": {
    "name": "ipython",
    "version": 3
   },
   "file_extension": ".py",
   "mimetype": "text/x-python",
   "name": "python",
   "nbconvert_exporter": "python",
   "pygments_lexer": "ipython3",
   "version": "3.10.10"
  },
  "orig_nbformat": 4
 },
 "nbformat": 4,
 "nbformat_minor": 2
}
