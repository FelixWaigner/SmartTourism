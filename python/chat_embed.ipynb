{
 "cells": [
  {
   "cell_type": "code",
   "execution_count": 1,
   "metadata": {},
   "outputs": [],
   "source": [
    "import os\n",
    "from embedchain import App\n",
    "from myapikey import apikey\n",
    "import configparser\n",
    "import pprint"
   ]
  },
  {
   "cell_type": "code",
   "execution_count": 2,
   "metadata": {},
   "outputs": [
    {
     "name": "stdout",
     "output_type": "stream",
     "text": [
      "Inserting batches from 0 to 38 in chromadb\n",
      "Successfully saved https://en.wikipedia.org/wiki/Mount_Bromo (DataType.WEB_PAGE). New chunks count: 38\n"
     ]
    },
    {
     "data": {
      "text/plain": [
       "'987a183aacb5fc662fde6c2140aa1214'"
      ]
     },
     "execution_count": 2,
     "metadata": {},
     "output_type": "execute_result"
    }
   ],
   "source": [
    "os.environ[\"OPENAI_API_KEY\"] = apikey()\n",
    "\n",
    "tourism_bot = App()\n",
    "\n",
    "# Tumpak Sewu Waterfalls\n",
    "# TODO: List all of the tourism spots\n",
    "\n",
    "# tourism_bot.add(\"https://en.wikipedia.org/wiki/Tumpak_Sewu_Waterfalls\")\n",
    "# tourism_bot.add(\"http://javaisbeautiful.com/2016/08/08/tumpak-sewu-waterfall-lumajang-malang-east-java-indonesia/\")\n",
    "\n",
    "# Mount Bromo\n",
    "tourism_bot.add(\"https://en.wikipedia.org/wiki/Mount_Bromo\")"
   ]
  },
  {
   "cell_type": "code",
   "execution_count": 4,
   "metadata": {},
   "outputs": [
    {
     "name": "stdout",
     "output_type": "stream",
     "text": [
      "\n",
      "El monte Bromo es un volcán activo situado en Java Oriental, Indonesia. Es uno de los destinos turísticos más famosos de la zona y está incluido en el Parque Nacional Bromo Tengger Semeru. El nombre Bromo proviene de la pronunciación javanesa de Brahma, el dios hindú de la creación. En la boca del cráter, hay una estatua de Ganesha, el dios hindú de la sabiduría, que es adorado por los hindúes javaneses. El monte Bromo se encuentra en medio de una llanura llamada \"Mar de Arena\" (Segara Wedi en javanés o Lautan Pasir en indonesio).\n",
      "\n"
     ]
    }
   ],
   "source": [
    "while True:\n",
    "    question = input(\"Enter question regarding the tourism spot:\")\n",
    "    if question == 'quit':\n",
    "        break\n",
    "    \n",
    "    response = tourism_bot.query(question)\n",
    "    print(f\"\\n{response}\\n\")"
   ]
  },
  {
   "cell_type": "code",
   "execution_count": 6,
   "metadata": {},
   "outputs": [
    {
     "name": "stdout",
     "output_type": "stream",
     "text": [
      "El monte Bromo es un volcán activo situado en Java Oriental, Indonesia. Es uno de los destinos turísticos más famosos de la zona y está incluido en el Parque Nacional Bromo Tengger Semeru. El nombre Bromo proviene de la pronunciación javanesa de Brahma, el dios hindú de la creación. En la boca del cráter, hay una estatua de Ganesha, el dios hindú de la sabiduría, que es adorado por los hindúes javaneses. El monte Bromo se encuentra en medio de una llanura llamada \"Mar de Arena\" (Segara Wedi en javanés o Lautan Pasir en indonesio).\n"
     ]
    }
   ],
   "source": [
    "print(response)"
   ]
  },
  {
   "cell_type": "code",
   "execution_count": null,
   "metadata": {},
   "outputs": [],
   "source": []
  }
 ],
 "metadata": {
  "kernelspec": {
   "display_name": ".venv",
   "language": "python",
   "name": "python3"
  },
  "language_info": {
   "codemirror_mode": {
    "name": "ipython",
    "version": 3
   },
   "file_extension": ".py",
   "mimetype": "text/x-python",
   "name": "python",
   "nbconvert_exporter": "python",
   "pygments_lexer": "ipython3",
   "version": "3.10.10"
  },
  "orig_nbformat": 4
 },
 "nbformat": 4,
 "nbformat_minor": 2
}
